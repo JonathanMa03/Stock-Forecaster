{
 "cells": [
  {
   "cell_type": "markdown",
   "metadata": {},
   "source": [
    "# Predicting NVDA Stock Prices with Neural Time Series Forecasting: A Comparative Analysis of NBEATS and NHITS Models "
   ]
  },
  {
   "cell_type": "code",
   "execution_count": null,
   "metadata": {},
   "outputs": [],
   "source": [
    "import logging\n",
    "logging.basicConfig(level=logging.ERROR)"
   ]
  },
  {
   "cell_type": "markdown",
   "metadata": {},
   "source": [
    "## Introduction\n",
    "Forecasting stock prices is a significant challenge due to the inherent complexity and stochastic nature of financial time series. Despite these challenges, accurate predictions can yield substantial benefits for traders, investors, and financial planners, enabling informed decisions and optimal portfolio management. This study focuses on predicting the stock price of NVIDIA Corporation (NVDA), a leader in the semiconductor industry, leveraging advanced neural time series forecasting models, NBEATS (Neural Basis Expansion Analysis for Time Series) and NHITS (Neural Hierarchical Interpolation for Time Series). These cutting-edge models offer significant improvements in both accuracy and computational efficiency over traditional approaches by utilizing neural architectures tailored for time series forecasting.\n",
    "\n",
    "The NBEATS model employs a forward and backward residual stacking methodology to capture complex patterns without requiring domain-specific preprocessing, as highlighted by Oreshkin et al. (2020). NHITS extends this approach with hierarchical interpolation and multi-rate input sampling, enabling enhanced performance in long-horizon forecasting tasks, as demonstrated by Challu et al. (2022). By integrating these methods, this project explores the potential of neural forecasting for financial time series, providing a comparative analysis of their predictive capabilities through metrics like Mean Absolute Error (MAE). Complemented by an interactive dashboard, this work aims to bridge the gap between technical innovation and practical utility in financial forecasting."
   ]
  },
  {
   "cell_type": "code",
   "execution_count": null,
   "metadata": {},
   "outputs": [],
   "source": [
    "import yfinance as yf\n",
    "import hvplot.pandas  \n",
    "\n",
    "symbol = \"NVDA\"\n",
    "data = yf.Ticker(symbol).history(period=\"5d\")\n",
    "data.hvplot.line(y=[\"Close\"], width=800, height=400, title=f\"{symbol} Stock Price Over Time\")"
   ]
  },
  {
   "cell_type": "markdown",
   "metadata": {},
   "source": [
    "## Motivation\n",
    "Stock market analysis has long relied on traditional tools such as technical indicators and statistical models, which, while effective in certain scenarios, often fall short in capturing the complexity and non-linearity of financial data. NVIDIA Corporation (NVDA), a leader in the tech industry and a key player in the development of AI and semiconductor technologies, is an influential stock with significant volatility and high market interest. Accurately forecasting its stock price could yield substantial benefits for investors, analysts, and portfolio managers alike.\n",
    "\n",
    "This project is motivated by the growing need to explore advanced machine learning models, such as NBEATS and NHITS, to address the limitations of traditional forecasting approaches. Neural time series models offer the potential to uncover hidden patterns in stock price movements and predict future trends with higher precision. By focusing on NVDA, we aim to demonstrate how these modern techniques can be applied to real-world financial data to generate actionable insights. Beyond the financial implications, this study also seeks to contribute to the broader understanding of how neural forecasting methods can revolutionize time series prediction in various domains, from economics to supply chain management."
   ]
  },
  {
   "cell_type": "markdown",
   "metadata": {},
   "source": [
    "## Methods\n",
    "Data was sourced from Yahoo Finance using the yfinance API, which provided historical stock prices, trading volume, and other financial metrics for NVDA. The data was preprocessed to handle missing values and prepare it for time series forecasting. Key features such as the closing price (Close) and technical indicators were extracted and formatted into a univariate time series for modeling. The data was then split into training and testing sets, with the most recent data reserved for validation. EDA was conducted to visualize historical trends and patterns in NVDA’s stock price and trading volume. Key visualizations included: line charts, to show the stock’s closing price over time; histograms, to analyze the distribution of daily returns and understand price volatility; moving averages (e.g., 20-day, 50-day, and 200-day), used to smooth price fluctuations and identify trends. \n",
    "\n",
    "Two state-of-the-art neural time series forecasting models, NBEATS and NHITS, were employed to predict NVDA’s stock prices. These models are designed to capture both global patterns (e.g., long-term trends) and local variations (e.g., short-term fluctuations) in time series data. Neural Basis Expansion Analysis for Time Series (NBEATS) learns basis functions to represent and predict time series data, making it highly interpretable and effective for financial forecasting. Neural Hierarchical Interpolation for Time Series (NHITS) uses a multi-resolution approach, interpolating between coarse and fine-grained patterns to achieve high accuracy in complex datasets. The models’ predictive accuracy was assessed using the Mean Absolute Error (MAE) metric, calculated on the test dataset. MAE measures the average absolute difference between the actual and predicted stock prices, providing a straightforward and interpretable metric for evaluating model performance. Both models’ MAE values were compared to determine their relative strengths.\n"
   ]
  },
  {
   "cell_type": "markdown",
   "metadata": {},
   "source": [
    "## Main Results\n",
    "The candlestick chart reveals a strong upward trend in NVDA’s stock price from early 2023 to early 2024, with the 20-day and 50-day moving averages closely tracking the stock’s price momentum. The 200-day moving average, while slower to respond, confirms the overall bullish trend. However, recent volatility and a potential reversal near April 2024 emphasize the need for robust forecasting methods to navigate such fluctuations. The histogram of percent changes reveals a mean daily return of approximately 0.23%, with a standard deviation of 3.54%, indicating moderate daily price swings. The time series of percent changes highlights periods of heightened volatility, such as late 2023. Similarly, the volume analysis shows significant spikes in trading activity during these volatile periods, as visualized in the time series and histogram of stock volumes. Such patterns suggest that volatility often coincides with increased market participation, underlining the importance of incorporating these dynamics into predictive models. Both models demonstrate strong predictive capabilities, closely following the test data’s trajectory. However, slight deviations are noticeable, particularly during periods of sharp price movement. Quantitatively, the Mean Absolute Error (MAE) for the NBEATS model is 2.21, while the NHITS model achieves an MAE of 2.51. Although NBEATS outperforms NHITS slightly, both models offer robust performance in capturing the stock’s overall trend and fluctuations. These results validate the effectiveness of neural time series models in financial forecasting."
   ]
  },
  {
   "cell_type": "code",
   "execution_count": null,
   "metadata": {},
   "outputs": [],
   "source": [
    "import main\n",
    "import panel as pn\n",
    "pn.extension()\n",
    "dashboard_layout = main.main()  \n",
    "dashboard_layout  "
   ]
  },
  {
   "cell_type": "markdown",
   "metadata": {},
   "source": [
    "## Conclusions"
   ]
  },
  {
   "cell_type": "markdown",
   "metadata": {},
   "source": [
    "This project demonstrated the power of neural time series forecasting models, specifically NBEATS and NHITS, in predicting NVDA’s stock price with high accuracy. These models effectively captured both short-term fluctuations and broader trends in the stock’s historical data, outperforming traditional moving averages, which are limited by their retrospective nature and lack of predictive capability. NBEATS achieved a Mean Absolute Error (MAE) of 2.21, slightly better than NHITS at 2.51, showcasing its strength in handling complex, non-linear time series data. The analysis also highlighted the importance of incorporating trading volume and volatility into the forecasting process, as these factors often coincide with significant price movements.\n",
    "\n",
    "While the results are promising, there is room for improvement in both methodology and implementation. Future work could incorporate additional features such as macroeconomic indicators, earnings reports, and news sentiment to enhance the models’ predictive power. Ensemble approaches that combine NBEATS, NHITS, and traditional statistical models could also be explored to reduce model-specific biases and improve robustness. Furthermore, optimizing the models’ hyperparameters and extending the forecast horizon could provide deeper insights into NVDA’s price dynamics. Finally, integrating real-time data updates into the interactive dashboard would make it a more practical tool for traders and analysts.\n",
    "\n",
    "In conclusion, this study highlights the potential of neural forecasting models to revolutionize financial time series analysis, providing actionable insights that surpass traditional tools. With further refinement and integration of external data sources, these models could become indispensable for investors navigating the complexities of modern financial markets."
   ]
  },
  {
   "cell_type": "markdown",
   "metadata": {},
   "source": [
    "## References \n",
    "1. Oreshkin, Alexander, et al. \"Neural basis expansion analysis for time series forecasting.\" arXiv preprint arXiv:2006.11239 (2020).\n",
    "2. Challu, Vincent, et al. \"Neural hierarchical interpolation for time series forecasting.\" arXiv preprint arXiv:2202.05599 (2022).\n",
    "3. Yahoo Finance API: https://finance.yahoo.com/quote/NVDA/history?period1=1640416000&period2=1672032000&interval=1mo&frequency=1d&filter=history&includeAdjustedClose=true\n",
    "4. Panel: https://panel.holoviz.org/user_guide/index.html\n",
    "5. Olivares, K. G., Challú, C., Garza, F., Mergenthaler Canseco, M., & Dubrawski, A. (2022). NeuralForecast: User-friendly state-of-the-art neural forecasting models. Presented at PyCon, Salt Lake City, Utah, US. Retrieved from https://github.com/Nixtla/neuralforecast"
   ]
  }
 ],
 "metadata": {
  "kernelspec": {
   "display_name": "Python 3",
   "language": "python",
   "name": "python3"
  },
  "language_info": {
   "codemirror_mode": {
    "name": "ipython",
    "version": 3
   },
   "file_extension": ".py",
   "mimetype": "text/x-python",
   "name": "python",
   "nbconvert_exporter": "python",
   "pygments_lexer": "ipython3",
   "version": "3.10.4"
  }
 },
 "nbformat": 4,
 "nbformat_minor": 2
}
